{
  "cells": [
    {
      "cell_type": "markdown",
      "metadata": {
        "id": "NgYyvtUjAmAE"
      },
      "source": [
        "### Use Monte Carlo to Price American Options\n",
        "\n",
        "In this project you will implement your own option pricer using American Monte Carlo (Monte Carlo + Regression) Based on the method prescribed by Longstaff and Schwartz.\n",
        "\n",
        "\n",
        "Basic Procedures follow that of Longstaff and Schwartz (2001)\n",
        "\n",
        "\n",
        "Some code has been provided to you.  Your task is to:\n",
        "\n",
        "1. Fill in the blanks where the code is missing <br>\n",
        "2. Implement the following extension:<br>\n",
        "  * Compare the prices for European and American options under different strikes with otherwise identical characteristics and describe/explain your observations in your report. \n",
        "  * Try with different number of basis functions (default is 6): 2,3,4,5,6,9,10,20. Plot the option prices against these different orders and observations in your report. \n",
        "  * (Optional) Consider the Heson stochastic volatility model below:\n",
        "$d S_t = r S_t dt + \\sqrt{V_t} S_t dW_t $,  where $ d V_t = \\kappa( \\theta - V_t) dt + \\eta \\sqrt{V_t} d B_t$, $d[W_t, B_t] = \\rho dt$.  Modify the pricer accordingly and compare the option price with the constant volatility case. \n"
      ]
    },
    {
      "cell_type": "code",
      "execution_count": null,
      "metadata": {
        "id": "CqLc3xigAmAK"
      },
      "outputs": [],
      "source": [
        "import numpy as np\n",
        "import matplotlib.pyplot as plt\n",
        "import seaborn as sns\n",
        "sns.set()\n",
        "%matplotlib inline"
      ]
    },
    {
      "cell_type": "code",
      "execution_count": null,
      "metadata": {
        "id": "KUnLJPMxAmAN"
      },
      "outputs": [],
      "source": [
        "def sim_stock_price_GBM(S0, r, sigma, N_sim, N_T, dt):\n",
        "        \n",
        "    # Generate paths for underlying asset prices\n",
        "    innovation = np.random.randn(N_sim, N_T)\n",
        "    BM = np.zeros([N_sim, N_T+1])\n",
        "    BM[:,0] = 0\n",
        "    BM[:,1:] = innovation\n",
        "    BM = np.cumsum(BM,axis=1)\n",
        "    BM *= np.sqrt(dt)\n",
        "\n",
        "    S = np.ones([N_sim, N_T+1])\n",
        "    S[:,0] = 0\n",
        "    S = S.cumsum(axis=1)\n",
        "    S *= (r - 0.5*(sigma)**2)*dt\n",
        "    S += sigma * BM\n",
        "    S = S0*np.exp(S)\n",
        "    \n",
        "    return S"
      ]
    },
    {
      "cell_type": "code",
      "execution_count": null,
      "metadata": {
        "id": "neHgCvvdAmAO"
      },
      "outputs": [],
      "source": [
        "def AMC(S0, K, r, sigma, N_sim, T, dt, N_basis=6, Filter_ITM=False, StockFrame=None):\n",
        "    N_T = int(T/dt)\n",
        "   \n",
        "    # Simulate stock prices\n",
        "    if StockFrame is None:\n",
        "        S = sim_stock_price_GBM(S0, r, sigma, N_sim, N_T,dt)\n",
        "    else: \n",
        "        S = StockFrame\n",
        "        N_T = S.shape[1] - 1\n",
        "        N_sim = S.shape[0]\n",
        "    \n",
        "    # Now backward induction & regression\n",
        "    i = N_T\n",
        "    print(S.shape)\n",
        "    Cont = np.zeros(N_sim)  # This stores the continuation value. \n",
        "    cf = np.zeros((N_sim, N_T))\n",
        "    cf[:,-1] = np.maximum(K-S[:,-1],0) # cash flow matrix\n",
        "    stopping = np.zeros((N_sim, N_T),dtype=bool)  # stopping rule matrix\n",
        "    stopping[:,-1] = (S[:,-1] < K) # last column: initialize to rue for in the money\n",
        "    while i > 1:\n",
        "        # First calculate option price\n",
        "        # p = np.maximum(np.maximum(K-S[:,i],0),Cont)         \n",
        "        x = S[:,i-1].copy()  # This is your predictive variable (x). In your prediction you need to use x, x^2, x^3,...x^N, where N = # of basis\n",
        "        # select ITM paths \n",
        "        c = cf[:,i-1].copy()\n",
        "        if Filter_ITM:  # take only ITM path for regression\n",
        "            itm = (x < K)\n",
        "            x = x[itm]\n",
        "            c = c[itm]\n",
        "            print(itm,x,c)\n",
        "        # discounted option price\n",
        "        y = np.exp(-r*dt)*c # This is your target variable (y)\n",
        "        reg = np.poly1d(np.polyfit(x,y,N_basis))\n",
        "        Cont = np.maximum(reg(x),0) \n",
        "        Exer = np.maximum(K-S[:,i-1],0)             \n",
        "        stopping[:,i-2] = (Exer > Cont)\n",
        "        stopping[:,i-1] = np.where(stopping[:,i-2],False,stopping[:,i-1])\n",
        "        cf[:,i-2] = Exer * stopping[:,i-2] \n",
        "        cf[:,i-1] = np.where(stopping[:,i-2],0,cf[:,i-1])\n",
        "        i = i - 1\n",
        "\n",
        "    \n",
        "    cf_disc = cf * np.exp(-r * np.arange(1,N_T+1))  # discount all cash flows\n",
        "    return cf_disc.sum(axis=1).mean()"
      ]
    },
    {
      "cell_type": "code",
      "source": [],
      "metadata": {
        "id": "TyrKcrCazChy"
      },
      "execution_count": null,
      "outputs": []
    },
    {
      "cell_type": "markdown",
      "metadata": {
        "id": "KtEGhgzIAmAQ"
      },
      "source": [
        "### Test using the example from Longstaff and Schwartz (2001)"
      ]
    },
    {
      "cell_type": "code",
      "execution_count": null,
      "metadata": {
        "id": "uNjBLomJAmAQ"
      },
      "outputs": [],
      "source": [
        "# Test\n",
        "S0=1\n",
        "K=1.1\n",
        "r=0.06\n",
        "sigma=0.3\n",
        "N_sim=10\n",
        "T=1\n",
        "dt=1\n",
        "price_path=np.array([[1,1,1,1,1,1,1,1],\n",
        "                     [1.09,1.16,1.22,.93,1.11,.76,.92,.88],\n",
        "                     [1.08,1.26,1.07,0.97,1.56,.77,.84,1.22],\n",
        "                     [1.34,1.54,1.03,.92,1.52,.90,1.01,1.34]]).T"
      ]
    },
    {
      "cell_type": "code",
      "execution_count": null,
      "metadata": {
        "id": "oZ5oKakrAmAR",
        "outputId": "f650297b-176a-4deb-a80b-64bef8c0f253",
        "colab": {
          "base_uri": "https://localhost:8080/"
        }
      },
      "outputs": [
        {
          "output_type": "stream",
          "name": "stdout",
          "text": [
            "(10, 2)\n"
          ]
        },
        {
          "output_type": "execute_result",
          "data": {
            "text/plain": [
              "0.09537786016180286"
            ]
          },
          "metadata": {},
          "execution_count": 6
        }
      ],
      "source": [
        "AMC(S0,K,r,sigma, N_sim, T, dt, 2, False)"
      ]
    },
    {
      "cell_type": "code",
      "source": [
        "S0=100\n",
        "K=95\n",
        "r=0.1\n",
        "sigma=0.23\n",
        "N_sim=10000\n",
        "T=2\n",
        "dt=0.5\n",
        "AMC(S0,K,r,sigma, N_sim, T, dt)"
      ],
      "metadata": {
        "id": "xPFeGCI8zD8-",
        "outputId": "44dc944b-2473-4c2d-b2f3-2777539f4e96",
        "colab": {
          "base_uri": "https://localhost:8080/"
        }
      },
      "execution_count": null,
      "outputs": [
        {
          "output_type": "stream",
          "name": "stdout",
          "text": [
            "(10000, 5)\n"
          ]
        },
        {
          "output_type": "execute_result",
          "data": {
            "text/plain": [
              "4.717160791624501"
            ]
          },
          "metadata": {},
          "execution_count": 7
        }
      ]
    },
    {
      "cell_type": "markdown",
      "metadata": {
        "id": "LZ46ayFtAmAW"
      },
      "source": [
        "## European Put price for comparison"
      ]
    },
    {
      "cell_type": "code",
      "execution_count": null,
      "metadata": {
        "id": "-h4Xk7kCAmAX"
      },
      "outputs": [],
      "source": [
        "from scipy.stats import norm\n",
        "def European_Put(S0,K,r,sigma,T):\n",
        "    d1 = (np.log(S0/K) + (r + 0.5*(sigma)**2))*T/(sigma*np.sqrt(T)) \n",
        "    d2 = d1 - sigma*np.sqrt(T)\n",
        "    return np.exp(-r*T)*K*norm.cdf(-d2) - S0*norm.cdf(-d1)"
      ]
    },
    {
      "cell_type": "code",
      "execution_count": null,
      "metadata": {
        "id": "fPO3O6FSAmAY",
        "outputId": "01b0f2cc-f0b4-4906-e820-23c152e482f9",
        "colab": {
          "base_uri": "https://localhost:8080/"
        }
      },
      "outputs": [
        {
          "output_type": "stream",
          "name": "stdout",
          "text": [
            "(10000, 5)\n"
          ]
        },
        {
          "output_type": "execute_result",
          "data": {
            "text/plain": [
              "4.620355799576784"
            ]
          },
          "metadata": {},
          "execution_count": 8
        }
      ],
      "source": [
        "S0=100\n",
        "K=95\n",
        "r=0.1\n",
        "sigma=0.23\n",
        "N_sim=10000\n",
        "T=2\n",
        "dt=0.5\n",
        "AMC(S0,K,r,sigma, N_sim, T, dt)"
      ]
    },
    {
      "cell_type": "code",
      "execution_count": null,
      "metadata": {
        "id": "ttRxymfXAmAZ",
        "outputId": "44ad841f-d653-4a7b-9638-c66996052916",
        "colab": {
          "base_uri": "https://localhost:8080/"
        }
      },
      "outputs": [
        {
          "output_type": "execute_result",
          "data": {
            "text/plain": [
              "3.494842856345061"
            ]
          },
          "metadata": {},
          "execution_count": 9
        }
      ],
      "source": [
        "European_Put(S0,K,r,sigma,T)"
      ]
    },
    {
      "cell_type": "code",
      "execution_count": null,
      "metadata": {
        "id": "jHea3_TaAmAZ"
      },
      "outputs": [],
      "source": [
        "def AMC_S(S):\n",
        "    return AMC(S,K,r,sigma,N_sim,T,dt)"
      ]
    },
    {
      "cell_type": "markdown",
      "metadata": {
        "id": "C3fR38jLAmAZ"
      },
      "source": [
        "## Compare European and American Option prices under different underlying stock prices"
      ]
    },
    {
      "cell_type": "code",
      "execution_count": null,
      "metadata": {
        "id": "tELIPUXnAmAa",
        "outputId": "c55df333-23e9-4ddb-cd27-0201ef222f07",
        "colab": {
          "base_uri": "https://localhost:8080/",
          "height": 428
        }
      },
      "outputs": [
        {
          "output_type": "stream",
          "name": "stdout",
          "text": [
            "(10000, 5)\n",
            "(10000, 5)\n",
            "(10000, 5)\n",
            "(10000, 5)\n",
            "(10000, 5)\n",
            "(10000, 5)\n",
            "(10000, 5)\n"
          ]
        },
        {
          "output_type": "execute_result",
          "data": {
            "text/plain": [
              "Text(0, 0.5, 'Put Price')"
            ]
          },
          "metadata": {},
          "execution_count": 10
        },
        {
          "output_type": "display_data",
          "data": {
            "text/plain": [
              "<Figure size 432x288 with 1 Axes>"
            ],
            "image/png": "[encoded data removed]"
          },
          "metadata": {
            "needs_background": "light"
          }
        }
      ],
      "source": [
        "S= [60,70,80,90,100,110,120]\n",
        "option_Eur = [European_Put(ss,K,r,sigma,T) for ss in S ]\n",
        "option_Am = [AMC_S(ss) for ss in S]\n",
        "plt.plot(S, option_Eur, label='European Put Price')\n",
        "plt.plot(S, option_Am, label='American Put price')\n",
        "plt.legend()\n",
        "plt.xlabel('Underlying Price')\n",
        "plt.ylabel('Put Price')"
      ]
    },
    {
      "cell_type": "markdown",
      "metadata": {
        "id": "Zgg5qwEgAmAa"
      },
      "source": [
        "## Compare American option prices under different number of basis"
      ]
    },
    {
      "cell_type": "code",
      "execution_count": null,
      "metadata": {
        "id": "fifv-sBrAmAb",
        "outputId": "6a8d77bb-5077-4735-b965-45073f0c70cb",
        "colab": {
          "base_uri": "https://localhost:8080/",
          "height": 499
        }
      },
      "outputs": [
        {
          "output_type": "stream",
          "name": "stdout",
          "text": [
            "(10, 2)\n",
            "(10, 2)\n",
            "(10, 2)\n",
            "(10, 2)\n",
            "(10, 2)\n",
            "(10, 2)\n",
            "(10, 2)\n",
            "(10, 2)\n",
            "(10, 2)\n",
            "(10, 2)\n",
            "(10, 2)\n"
          ]
        },
        {
          "output_type": "execute_result",
          "data": {
            "text/plain": [
              "Text(0, 0.5, 'Option price')"
            ]
          },
          "metadata": {},
          "execution_count": 16
        },
        {
          "output_type": "display_data",
          "data": {
            "text/plain": [
              "<Figure size 432x288 with 1 Axes>"
            ],
            "image/png": "[encoded data removed]"
          },
          "metadata": {
            "needs_background": "light"
          }
        }
      ],
      "source": [
        "num_basis = [2,3,4,5,6,9,10,20,30,40,50]\n",
        "option_prices=[]\n",
        "for num in num_basis:\n",
        "    c=AMC(S0,K,r,sigma, N_sim, T, dt,num)\n",
        "    option_prices.append(c)\n",
        "plt.plot(num_basis, option_prices)\n",
        "plt.xlabel('Number of basis')\n",
        "plt.ylabel('Option price')"
      ]
    },
    {
      "cell_type": "code",
      "execution_count": null,
      "metadata": {
        "id": "zr4wDqc5AmAc"
      },
      "outputs": [],
      "source": []
    },
    {
      "cell_type": "code",
      "execution_count": null,
      "metadata": {
        "colab": {
          "referenced_widgets": [
            "4936b4e38f8f48708a4ea865aa27527a",
            "fefe4aec0ced48b6baf3291d061a017f",
            "7c697c18723440d4ba8982631f80f061",
            "b79dc2d8bafd484184590fce593684a7",
            "a506b45153f443c79c27565aa77675cd",
            "73b4369d4c6346269431cee24d1a5e42",
            "3f989b4bfea24042b5c11e3bd3751190"
          ],
          "base_uri": "https://localhost:8080/",
          "height": 102
        },
        "id": "O0QFH4HLAmAc",
        "outputId": "3eaab6ae-5f63-4db0-c6ad-7230bbb9fd25"
      },
      "outputs": [
        {
          "output_type": "display_data",
          "data": {
            "text/plain": [
              "interactive(children=(FloatSlider(value=50.0, description='S', max=120.0, min=50.0, step=5.0), Output()), _dom…"
            ],
            "application/vnd.jupyter.widget-view+json": {
              "version_major": 2,
              "version_minor": 0,
              "model_id": "4936b4e38f8f48708a4ea865aa27527a"
            }
          },
          "metadata": {}
        },
        {
          "output_type": "execute_result",
          "data": {
            "text/plain": [
              "<function __main__.AMC_S>"
            ]
          },
          "metadata": {},
          "execution_count": 13
        }
      ],
      "source": [
        "from ipywidgets import interact\n",
        "import ipywidgets as widgets\n",
        "interact(AMC_S, S=widgets.FloatSlider(min=50, max=120, step=5))"
      ]
    },
    {
      "cell_type": "markdown",
      "metadata": {
        "id": "Ivw6-IJAAmAc"
      },
      "source": [
        "# Heston Model for stock simulation"
      ]
    },
    {
      "cell_type": "code",
      "execution_count": null,
      "metadata": {
        "id": "rT0xdoZ_AmAc"
      },
      "outputs": [],
      "source": [
        "def sim_stock_hest(t0,T,S0,V0,N_t,r,kappa,theta, eta, rho, N_sim):\n",
        "    dt = T/N_t\n",
        "    t = np.linspace(t0,T,N_t+1)\n",
        "    sdt = np.sqrt(dt)\n",
        "    \n",
        "    Z1 = np.random.randn(N_sim, N_t)\n",
        "    Z2 = np.random.randn(N_sim, N_t)\n",
        "    Z3 = rho*Z1 + np.sqrt(1-rho**2)*Z2\n",
        "    \n",
        "    S = np.zeros((N_sim, N_t+1))\n",
        "    S[:,0] = S0\n",
        "    \n",
        "    V = np.zeros((N_sim, N_t+1))\n",
        "    V[:,0] = V0\n",
        "\n",
        "    for i in range(N_t):\n",
        "        vol = np.sqrt(np.maximum(V[:,i],0))\n",
        "        S[:,i+1] = S[:,i] + r*S[:,i]*dt + vol*S[:,i]*sdt*Z1[:,i] + 0.5*V[:,i]*S[:,i]*(Z1[:,i]**2 - 1)*dt\n",
        "        V[:,i+1] = V[:,i] + kappa*(theta - V[:,i])*dt + eta*vol*sdt*Z3[:,i] + 0.25*(eta**2)*(Z3[:,i]**2 - 1)*dt\n",
        "    return S\n",
        "                      "
      ]
    },
    {
      "cell_type": "code",
      "execution_count": null,
      "metadata": {
        "id": "UV0TW-aeAmAd"
      },
      "outputs": [],
      "source": [
        "# Use Heston model to price American Options"
      ]
    },
    {
      "cell_type": "code",
      "execution_count": null,
      "metadata": {
        "id": "t_hojyOqAmAd"
      },
      "outputs": [],
      "source": [
        "def AMC_Heston(S0,K,r,N_sim, T, dt, V0, kappa, theta, eta, rho, N_basis=6, Filter_ITM=True):\n",
        "    N_T = int(T/dt)\n",
        "   \n",
        "    # Simulate stock prices \n",
        "    S = sim_stock_hest(0,T,S0,V0,N_T,r,kappa,theta, eta, rho, N_sim)\n",
        "    print(S.shape)\n",
        "    # Now backward induction & regression\n",
        "    i = N_T\n",
        "    \n",
        "    Cont = np.zeros(N_sim)  # This stores the continuation value. \n",
        "    cf = np.zeros((N_sim, N_T))\n",
        "    cf[:,-1] = np.maximum(K-S[:,-1],0) # cash flow matrix\n",
        "    stopping = np.zeros((N_sim, N_T),dtype=bool)  # stopping rule matrix\n",
        "    stopping[:,-1] = (S[:,-1] < K) # last column: initialize to rue for in the money\n",
        "    while i > 1:\n",
        "        # First calculate option price\n",
        "        # p = np.maximum(np.maximum(K-S[:,i],0),Cont)       \n",
        "        x = S[:,i-1].copy()  # This is your predictive variable (x). In your prediction you need to use x, x^2, x^3,...x^N, where N = # of basis\n",
        "        # select ITM paths \n",
        "        c = cf[:,i-1].copy()\n",
        "        if Filter_ITM:\n",
        "            itm = (x < K)\n",
        "            x = x[itm]\n",
        "            c = c[itm]\n",
        "        # discounted option price\n",
        "        y = np.exp(-r*dt)*c # This is your target variable (y)\n",
        "        reg = np.poly1d(np.polyfit(x,y,N_basis)) \n",
        "        Cont = np.maximum(reg(S[:,i-1]),0) \n",
        "        Exer = np.maximum(K-S[:,i-1],0)             \n",
        "        stopping[:,i-2] = (Exer > Cont)\n",
        "        stopping[:,i-1] = np.where(stopping[:,i-2],False, stopping[:,i-1])\n",
        "        cf[:,i-2] = np.where(Exer > Cont, Exer, 0)\n",
        "        cf[:,i-1] = np.where(stopping[:,i-2], 0, cf[:,i-1])\n",
        "        i = i - 1\n",
        "\n",
        "    #print(cf)\n",
        "    cf_disc = cf * np.exp(-r * np.arange(1,N_T+1))\n",
        "    #print(cf_disc)\n",
        "    return np.mean(np.sum(cf_disc,axis=1))\n"
      ]
    },
    {
      "cell_type": "code",
      "execution_count": null,
      "metadata": {
        "id": "Xx8pvT7rAmAd"
      },
      "outputs": [],
      "source": [
        "S0=100\n",
        "K=95\n",
        "V0=0.0529\n",
        "T=2\n",
        "dt=0.01\n",
        "r=0.1\n",
        "kappa=0.5\n",
        "theta=0.0529\n",
        "eta=0.23\n",
        "rho=-0.9\n",
        "N_sim=10000"
      ]
    },
    {
      "cell_type": "code",
      "execution_count": null,
      "metadata": {
        "id": "ILqBWqIfAmAe",
        "outputId": "4aee4658-129e-4a70-bbae-d96d6dcd7621"
      },
      "outputs": [
        {
          "name": "stdout",
          "output_type": "stream",
          "text": [
            "(20000, 201)\n"
          ]
        },
        {
          "data": {
            "text/plain": [
              "1.7862294674933008"
            ]
          },
          "execution_count": 125,
          "metadata": {},
          "output_type": "execute_result"
        }
      ],
      "source": [
        "AMC_Heston(S0,K,r,N_sim, T, dt, V0, kappa, theta, eta, rho,6,False)"
      ]
    },
    {
      "cell_type": "code",
      "execution_count": null,
      "metadata": {
        "id": "L4V5zFZAAmAe",
        "outputId": "c203ed9b-0e41-4618-f320-dab63b791052"
      },
      "outputs": [
        {
          "name": "stdout",
          "output_type": "stream",
          "text": [
            "(10000, 201)\n",
            "(10000, 201)\n",
            "(10000, 201)\n",
            "(10000, 201)\n",
            "(10000, 201)\n",
            "(10000, 201)\n",
            "(10000, 201)\n",
            "(10000, 201)\n"
          ]
        },
        {
          "data": {
            "text/plain": [
              "Text(0, 0.5, 'Put Price')"
            ]
          },
          "execution_count": 133,
          "metadata": {},
          "output_type": "execute_result"
        },
        {
          "data": {
            "image/png": "[encoded data removed]",
            "text/plain": [
              "<Figure size 432x288 with 1 Axes>"
            ]
          },
          "metadata": {
            "needs_background": "light"
          },
          "output_type": "display_data"
        }
      ],
      "source": [
        "S= [95,100,105,110]\n",
        "option_GBM = [AMC(ss,K,r,sigma, N_sim, T, dt, 6,False) for ss in S]\n",
        "option_Hest = [AMC_Heston(ss,K,r,N_sim, T, dt, V0, kappa, theta, eta, rho,6,False) for ss in S]\n",
        "plt.plot(S, option_GBM, label='American Put Price (GBM)')\n",
        "plt.plot(S, option_Hest, label='American Put price (Hest)')\n",
        "plt.legend()\n",
        "plt.xlabel('Underlying Price')\n",
        "plt.ylabel('Put Price')"
      ]
    },
    {
      "cell_type": "code",
      "execution_count": null,
      "metadata": {
        "id": "dHanDAHfAmAf"
      },
      "outputs": [],
      "source": []
    }
  ],
  "metadata": {
    "kernelspec": {
      "display_name": "Python 3",
      "language": "python",
      "name": "python3"
    },
    "language_info": {
      "codemirror_mode": {
        "name": "ipython",
        "version": 3
      },
      "file_extension": ".py",
      "mimetype": "text/x-python",
      "name": "python",
      "nbconvert_exporter": "python",
      "pygments_lexer": "ipython3",
      "version": "3.7.4"
    },
    "colab": {
      "provenance": []
    },
    "widgets": {
      "application/vnd.jupyter.widget-state+json": {
        "4936b4e38f8f48708a4ea865aa27527a": {
          "model_module": "@jupyter-widgets/controls",
          "model_name": "VBoxModel",
          "model_module_version": "1.5.0",
          "state": {
            "_dom_classes": [
              "widget-interact"
            ],
            "_model_module": "@jupyter-widgets/controls",
            "_model_module_version": "1.5.0",
            "_model_name": "VBoxModel",
            "_view_count": null,
            "_view_module": "@jupyter-widgets/controls",
            "_view_module_version": "1.5.0",
            "_view_name": "VBoxView",
            "box_style": "",
            "children": [
              "IPY_MODEL_fefe4aec0ced48b6baf3291d061a017f",
              "IPY_MODEL_7c697c18723440d4ba8982631f80f061"
            ],
            "layout": "IPY_MODEL_b79dc2d8bafd484184590fce593684a7"
          }
        },
        "fefe4aec0ced48b6baf3291d061a017f": {
          "model_module": "@jupyter-widgets/controls",
          "model_name": "FloatSliderModel",
          "model_module_version": "1.5.0",
          "state": {
            "_dom_classes": [],
            "_model_module": "@jupyter-widgets/controls",
            "_model_module_version": "1.5.0",
            "_model_name": "FloatSliderModel",
            "_view_count": null,
            "_view_module": "@jupyter-widgets/controls",
            "_view_module_version": "1.5.0",
            "_view_name": "FloatSliderView",
            "continuous_update": true,
            "description": "S",
            "description_tooltip": null,
            "disabled": false,
            "layout": "IPY_MODEL_a506b45153f443c79c27565aa77675cd",
            "max": 120,
            "min": 50,
            "orientation": "horizontal",
            "readout": true,
            "readout_format": ".2f",
            "step": 5,
            "style": "IPY_MODEL_73b4369d4c6346269431cee24d1a5e42",
            "value": 50
          }
        },
        "7c697c18723440d4ba8982631f80f061": {
          "model_module": "@jupyter-widgets/output",
          "model_name": "OutputModel",
          "model_module_version": "1.0.0",
          "state": {
            "_dom_classes": [],
            "_model_module": "@jupyter-widgets/output",
            "_model_module_version": "1.0.0",
            "_model_name": "OutputModel",
            "_view_count": null,
            "_view_module": "@jupyter-widgets/output",
            "_view_module_version": "1.0.0",
            "_view_name": "OutputView",
            "layout": "IPY_MODEL_3f989b4bfea24042b5c11e3bd3751190",
            "msg_id": "",
            "outputs": [
              {
                "output_type": "stream",
                "name": "stdout",
                "text": [
                  "(10000, 5)\n"
                ]
              },
              {
                "output_type": "display_data",
                "data": {
                  "text/plain": "38.61560366478995"
                },
                "metadata": {}
              }
            ]
          }
        },
        "b79dc2d8bafd484184590fce593684a7": {
          "model_module": "@jupyter-widgets/base",
          "model_name": "LayoutModel",
          "model_module_version": "1.2.0",
          "state": {
            "_model_module": "@jupyter-widgets/base",
            "_model_module_version": "1.2.0",
            "_model_name": "LayoutModel",
            "_view_count": null,
            "_view_module": "@jupyter-widgets/base",
            "_view_module_version": "1.2.0",
            "_view_name": "LayoutView",
            "align_content": null,
            "align_items": null,
            "align_self": null,
            "border": null,
            "bottom": null,
            "display": null,
            "flex": null,
            "flex_flow": null,
            "grid_area": null,
            "grid_auto_columns": null,
            "grid_auto_flow": null,
            "grid_auto_rows": null,
            "grid_column": null,
            "grid_gap": null,
            "grid_row": null,
            "grid_template_areas": null,
            "grid_template_columns": null,
            "grid_template_rows": null,
            "height": null,
            "justify_content": null,
            "justify_items": null,
            "left": null,
            "margin": null,
            "max_height": null,
            "max_width": null,
            "min_height": null,
            "min_width": null,
            "object_fit": null,
            "object_position": null,
            "order": null,
            "overflow": null,
            "overflow_x": null,
            "overflow_y": null,
            "padding": null,
            "right": null,
            "top": null,
            "visibility": null,
            "width": null
          }
        },
        "a506b45153f443c79c27565aa77675cd": {
          "model_module": "@jupyter-widgets/base",
          "model_name": "LayoutModel",
          "model_module_version": "1.2.0",
          "state": {
            "_model_module": "@jupyter-widgets/base",
            "_model_module_version": "1.2.0",
            "_model_name": "LayoutModel",
            "_view_count": null,
            "_view_module": "@jupyter-widgets/base",
            "_view_module_version": "1.2.0",
            "_view_name": "LayoutView",
            "align_content": null,
            "align_items": null,
            "align_self": null,
            "border": null,
            "bottom": null,
            "display": null,
            "flex": null,
            "flex_flow": null,
            "grid_area": null,
            "grid_auto_columns": null,
            "grid_auto_flow": null,
            "grid_auto_rows": null,
            "grid_column": null,
            "grid_gap": null,
            "grid_row": null,
            "grid_template_areas": null,
            "grid_template_columns": null,
            "grid_template_rows": null,
            "height": null,
            "justify_content": null,
            "justify_items": null,
            "left": null,
            "margin": null,
            "max_height": null,
            "max_width": null,
            "min_height": null,
            "min_width": null,
            "object_fit": null,
            "object_position": null,
            "order": null,
            "overflow": null,
            "overflow_x": null,
            "overflow_y": null,
            "padding": null,
            "right": null,
            "top": null,
            "visibility": null,
            "width": null
          }
        },
        "73b4369d4c6346269431cee24d1a5e42": {
          "model_module": "@jupyter-widgets/controls",
          "model_name": "SliderStyleModel",
          "model_module_version": "1.5.0",
          "state": {
            "_model_module": "@jupyter-widgets/controls",
            "_model_module_version": "1.5.0",
            "_model_name": "SliderStyleModel",
            "_view_count": null,
            "_view_module": "@jupyter-widgets/base",
            "_view_module_version": "1.2.0",
            "_view_name": "StyleView",
            "description_width": "",
            "handle_color": null
          }
        },
        "3f989b4bfea24042b5c11e3bd3751190": {
          "model_module": "@jupyter-widgets/base",
          "model_name": "LayoutModel",
          "model_module_version": "1.2.0",
          "state": {
            "_model_module": "@jupyter-widgets/base",
            "_model_module_version": "1.2.0",
            "_model_name": "LayoutModel",
            "_view_count": null,
            "_view_module": "@jupyter-widgets/base",
            "_view_module_version": "1.2.0",
            "_view_name": "LayoutView",
            "align_content": null,
            "align_items": null,
            "align_self": null,
            "border": null,
            "bottom": null,
            "display": null,
            "flex": null,
            "flex_flow": null,
            "grid_area": null,
            "grid_auto_columns": null,
            "grid_auto_flow": null,
            "grid_auto_rows": null,
            "grid_column": null,
            "grid_gap": null,
            "grid_row": null,
            "grid_template_areas": null,
            "grid_template_columns": null,
            "grid_template_rows": null,
            "height": null,
            "justify_content": null,
            "justify_items": null,
            "left": null,
            "margin": null,
            "max_height": null,
            "max_width": null,
            "min_height": null,
            "min_width": null,
            "object_fit": null,
            "object_position": null,
            "order": null,
            "overflow": null,
            "overflow_x": null,
            "overflow_y": null,
            "padding": null,
            "right": null,
            "top": null,
            "visibility": null,
            "width": null
          }
        }
      }
    }
  },
  "nbformat": 4,
  "nbformat_minor": 0
}